{
 "cells": [
  {
   "cell_type": "markdown",
   "metadata": {},
   "source": [
    "# Just basic code tryouts\n",
    "\n",
    "## Qiskit Nature\n",
    "\n",
    "https://qiskit-community.github.io/qiskit-nature/getting_started.html\n",
    "\n",
    "> Nothing here yet"
   ]
  }
 ],
 "metadata": {
  "kernelspec": {
   "display_name": "myenv",
   "language": "python",
   "name": "python3"
  },
  "language_info": {
   "name": "python",
   "version": "3.12.3"
  }
 },
 "nbformat": 4,
 "nbformat_minor": 2
}
