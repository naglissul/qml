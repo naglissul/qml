{
 "cells": [
  {
   "cell_type": "markdown",
   "metadata": {},
   "source": [
    "# Notes on MATLAB tutorial video\n",
    "\n",
    "[Youtube link](https://www.youtube.com/watch?v=SjV7JFLxOuw)\n",
    "\n",
    "Not including MATLAB actual implementation, since everything will be done with qiskit.\n",
    "\n",
    "VQE - finding smallest eigenvalue. Using physics for that."
   ]
  },
  {
   "cell_type": "markdown",
   "metadata": {},
   "source": [
    "### Idea\n",
    "\n",
    "By measuring observables we get the eigen values of the observable matrix.\n",
    "\n",
    "Hamiltonian observable represents total energy of the system.\n",
    "\n",
    "Variational method with carefully selected eigenvectors.\n",
    "\n",
    "Trial eigenvectors on QC $\\Leftrightarrow$(loss function, updated parameters) Classical optimizer\n",
    "\n",
    "### Process\n",
    "\n",
    "1. Selecting ANSATZ.\n",
    "\n",
    "Quantum circuit with rotational gate angles as tunable parameters. Selection - depends on problem hamiltonian. Tunable quantum state. Educated guess of system ground state wave function.\n",
    "\n",
    "2. Classical optimizer\n",
    "\n",
    "Fed with tunable parameters of ansatz and eigenvalues of hamiltonian. Adjusts parameters to minimize energy. \n",
    "\n",
    "### Implementing VQE (example)\n",
    "\n",
    "Hamiltonian in the second quantized form:\n",
    "\n",
    "$H = 0.398 YZ - 0.398 ZI + 0.398 ZZ + 0.181 XX$\n",
    "\n",
    "Simple, we can solve it classically (find all eigenvalues and select the minimum)\n",
    "\n",
    "$\\lambda_{min} = -0.9406$\n",
    "\n",
    "Function that creates ansatz.\n",
    "\n",
    "Defining optimizer...\n",
    "\n",
    "approaches the what we wanted. \n",
    "\n",
    "And stuff...\n",
    "\n",
    "> This can be an example to code for VQE on qiskit\n"
   ]
  }
 ],
 "metadata": {
  "language_info": {
   "name": "python"
  }
 },
 "nbformat": 4,
 "nbformat_minor": 2
}
