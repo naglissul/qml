{
 "cells": [
  {
   "cell_type": "markdown",
   "metadata": {},
   "source": [
    "# VQE on qiskit from video on LiH\n",
    "\n",
    "> Gave up. But checkout the 7th file here\n",
    "\n",
    "2025-01-19\n",
    "\n",
    "https://youtu.be/Z-A6G0WVI9w\n",
    "\n",
    "Package migrations in newer qiskit version: https://github.com/qiskit-community/qiskit-aqua"
   ]
  },
  {
   "cell_type": "code",
   "execution_count": 16,
   "metadata": {},
   "outputs": [
    {
     "ename": "ImportError",
     "evalue": "cannot import name 'QuantumInstance' from 'qiskit.utils' (/home/home/Desktop/PLAYGROUND/qml/myenv/lib/python3.12/site-packages/qiskit/utils/__init__.py)",
     "output_type": "error",
     "traceback": [
      "\u001b[0;31m---------------------------------------------------------------------------\u001b[0m",
      "\u001b[0;31mImportError\u001b[0m                               Traceback (most recent call last)",
      "Cell \u001b[0;32mIn[16], line 5\u001b[0m\n\u001b[1;32m      3\u001b[0m \u001b[38;5;28;01mimport\u001b[39;00m \u001b[38;5;21;01mcopy\u001b[39;00m\n\u001b[1;32m      4\u001b[0m \u001b[38;5;28;01mfrom\u001b[39;00m \u001b[38;5;21;01mqiskit_aer\u001b[39;00m \u001b[38;5;28;01mimport\u001b[39;00m AerSimulator\n\u001b[0;32m----> 5\u001b[0m \u001b[38;5;28;01mfrom\u001b[39;00m \u001b[38;5;21;01mqiskit\u001b[39;00m\u001b[38;5;21;01m.\u001b[39;00m\u001b[38;5;21;01mutils\u001b[39;00m \u001b[38;5;28;01mimport\u001b[39;00m QuantumInstance, algorithm_globals\n\u001b[1;32m      6\u001b[0m \u001b[38;5;28;01mfrom\u001b[39;00m \u001b[38;5;21;01mqiskit\u001b[39;00m\u001b[38;5;21;01m.\u001b[39;00m\u001b[38;5;21;01malgorithms\u001b[39;00m\u001b[38;5;21;01m.\u001b[39;00m\u001b[38;5;21;01mminimum_eigen_solvers\u001b[39;00m \u001b[38;5;28;01mimport\u001b[39;00m VQE, NumPyMinimumEigensolver \n\u001b[1;32m      7\u001b[0m \u001b[38;5;28;01mfrom\u001b[39;00m \u001b[38;5;21;01mqiskit\u001b[39;00m\u001b[38;5;21;01m.\u001b[39;00m\u001b[38;5;21;01malgorithms\u001b[39;00m\u001b[38;5;21;01m.\u001b[39;00m\u001b[38;5;21;01moptimizers\u001b[39;00m \u001b[38;5;28;01mimport\u001b[39;00m SLSQP                                  \n",
      "\u001b[0;31mImportError\u001b[0m: cannot import name 'QuantumInstance' from 'qiskit.utils' (/home/home/Desktop/PLAYGROUND/qml/myenv/lib/python3.12/site-packages/qiskit/utils/__init__.py)"
     ]
    }
   ],
   "source": [
    "import numpy as np\n",
    "import pylab\n",
    "import copy\n",
    "from qiskit_aer import AerSimulator\n",
    "from qiskit.utils import QuantumInstance, algorithm_globals\n",
    "from qiskit.algorithms.minimum_eigen_solvers import VQE, NumPyMinimumEigensolver \n",
    "from qiskit.algorithms.optimizers import SLSQP                                  \n",
    "from qiskit_nature.circuit.library.initial_states import HartreeFock           \n",
    "from qiskit_nature.circuit.library.ansatzes import UCCSD                       \n",
    "from qiskit_nature.drivers.second_quantization import PySCFDriver              \n",
    "from qiskit_nature.converters.second_quantization.qubit_converter import QubitMappingType \n"
   ]
  },
  {
   "cell_type": "markdown",
   "metadata": {},
   "source": [
    "$$\n",
    "\\alpha\n",
    "$$"
   ]
  }
 ],
 "metadata": {
  "kernelspec": {
   "display_name": "myenv",
   "language": "python",
   "name": "python3"
  },
  "language_info": {
   "codemirror_mode": {
    "name": "ipython",
    "version": 3
   },
   "file_extension": ".py",
   "mimetype": "text/x-python",
   "name": "python",
   "nbconvert_exporter": "python",
   "pygments_lexer": "ipython3",
   "version": "3.12.3"
  }
 },
 "nbformat": 4,
 "nbformat_minor": 2
}
