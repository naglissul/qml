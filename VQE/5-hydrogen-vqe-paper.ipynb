{
 "cells": [
  {
   "cell_type": "markdown",
   "metadata": {},
   "source": [
    "# Replicating paper on $H_2$ ground state\n",
    "\n",
    "[Use VQE to calculate the ground energy of hydrogen molecules on IBM Quantum](https://arxiv.org/pdf/2305.06538)\n",
    "\n",
    "> Code doesn't work. I gave up. Sorry\n"
   ]
  },
  {
   "cell_type": "markdown",
   "metadata": {},
   "source": [
    "Paper looks very similar to the qiskit tutorial... Also, this paper talks about basics on quantum computing, focusing on basic implementation, not advanced improvement."
   ]
  },
  {
   "cell_type": "markdown",
   "metadata": {},
   "source": [
    "Hamiltonian of hydrogen molecule (calculated with Jordan-Wigner transform IN THEORY):\n",
    "\n",
    "$$\n",
    "\\hat H = -\\frac 12 (\\hat I \\otimes \\hat I + \\hat X \\otimes \\hat X + \\hat Y \\otimes \\hat Y + \\hat Z \\otimes \\hat Z ) + d(\\hat Z \\otimes \\hat I + \\hat I \\otimes \\hat Z)\n",
    "$$\n"
   ]
  },
  {
   "cell_type": "markdown",
   "metadata": {},
   "source": [
    "\n",
    "Found either using formulas derived in the qiskit tutorial, or use just database with already calculated hamiltonians (PySCF).\n",
    "\n",
    "> How?"
   ]
  },
  {
   "cell_type": "code",
   "execution_count": 6,
   "metadata": {},
   "outputs": [
    {
     "ename": "ModuleNotFoundError",
     "evalue": "No module named 'qiskit._accelerate.circuit'; 'qiskit._accelerate' is not a package",
     "output_type": "error",
     "traceback": [
      "\u001b[0;31m---------------------------------------------------------------------------\u001b[0m",
      "\u001b[0;31mModuleNotFoundError\u001b[0m                       Traceback (most recent call last)",
      "Cell \u001b[0;32mIn[6], line 1\u001b[0m\n\u001b[0;32m----> 1\u001b[0m \u001b[38;5;28;01mfrom\u001b[39;00m \u001b[38;5;21;01mqiskit_nature\u001b[39;00m\u001b[38;5;21;01m.\u001b[39;00m\u001b[38;5;21;01mdrivers\u001b[39;00m \u001b[38;5;28;01mimport\u001b[39;00m Molecule\n",
      "File \u001b[0;32m~/Desktop/PLAYGROUND/qml/myenv/lib/python3.12/site-packages/qiskit_nature/__init__.py:53\u001b[0m\n\u001b[1;32m      1\u001b[0m \u001b[38;5;66;03m# This code is part of a Qiskit project.\u001b[39;00m\n\u001b[1;32m      2\u001b[0m \u001b[38;5;66;03m#\u001b[39;00m\n\u001b[1;32m      3\u001b[0m \u001b[38;5;66;03m# (C) Copyright IBM 2018, 2023.\u001b[39;00m\n\u001b[0;32m   (...)\u001b[0m\n\u001b[1;32m     10\u001b[0m \u001b[38;5;66;03m# copyright notice, and modified files need to carry a notice indicating\u001b[39;00m\n\u001b[1;32m     11\u001b[0m \u001b[38;5;66;03m# that they have been altered from the originals.\u001b[39;00m\n\u001b[1;32m     12\u001b[0m \u001b[38;5;124mr\u001b[39m\u001b[38;5;124;03m\"\"\"\u001b[39;00m\n\u001b[1;32m     13\u001b[0m \u001b[38;5;124;03m=============================================\u001b[39;00m\n\u001b[1;32m     14\u001b[0m \u001b[38;5;124;03mQiskit Nature module (:mod:`qiskit_nature`)\u001b[39;00m\n\u001b[0;32m   (...)\u001b[0m\n\u001b[1;32m     50\u001b[0m \n\u001b[1;32m     51\u001b[0m \u001b[38;5;124;03m\"\"\"\u001b[39;00m\n\u001b[0;32m---> 53\u001b[0m \u001b[38;5;28;01mfrom\u001b[39;00m \u001b[38;5;21;01mqiskit_algorithms\u001b[39;00m\u001b[38;5;21;01m.\u001b[39;00m\u001b[38;5;21;01mlist_or_dict\u001b[39;00m \u001b[38;5;28;01mimport\u001b[39;00m ListOrDict \u001b[38;5;28;01mas\u001b[39;00m ListOrDictType\n\u001b[1;32m     55\u001b[0m \u001b[38;5;28;01mfrom\u001b[39;00m \u001b[38;5;21;01m.\u001b[39;00m\u001b[38;5;21;01mexceptions\u001b[39;00m \u001b[38;5;28;01mimport\u001b[39;00m QiskitNatureError, UnsupportMethodError\n\u001b[1;32m     56\u001b[0m \u001b[38;5;28;01mfrom\u001b[39;00m \u001b[38;5;21;01m.\u001b[39;00m\u001b[38;5;21;01mlogging\u001b[39;00m \u001b[38;5;28;01mimport\u001b[39;00m logging\n",
      "File \u001b[0;32m~/Desktop/PLAYGROUND/qml/myenv/lib/python3.12/site-packages/qiskit_algorithms/__init__.py:252\u001b[0m\n\u001b[1;32m      1\u001b[0m \u001b[38;5;66;03m# This code is part of a Qiskit project.\u001b[39;00m\n\u001b[1;32m      2\u001b[0m \u001b[38;5;66;03m#\u001b[39;00m\n\u001b[1;32m      3\u001b[0m \u001b[38;5;66;03m# (C) Copyright IBM 2018, 2024.\u001b[39;00m\n\u001b[0;32m   (...)\u001b[0m\n\u001b[1;32m     10\u001b[0m \u001b[38;5;66;03m# copyright notice, and modified files need to carry a notice indicating\u001b[39;00m\n\u001b[1;32m     11\u001b[0m \u001b[38;5;66;03m# that they have been altered from the originals.\u001b[39;00m\n\u001b[1;32m     13\u001b[0m \u001b[38;5;124;03m\"\"\"\u001b[39;00m\n\u001b[1;32m     14\u001b[0m \u001b[38;5;124;03m============================================\u001b[39;00m\n\u001b[1;32m     15\u001b[0m \u001b[38;5;124;03mQiskit Algorithms (:mod:`qiskit_algorithms`)\u001b[39;00m\n\u001b[0;32m   (...)\u001b[0m\n\u001b[1;32m    250\u001b[0m \n\u001b[1;32m    251\u001b[0m \u001b[38;5;124;03m\"\"\"\u001b[39;00m\n\u001b[0;32m--> 252\u001b[0m \u001b[38;5;28;01mfrom\u001b[39;00m \u001b[38;5;21;01m.\u001b[39;00m\u001b[38;5;21;01malgorithm_job\u001b[39;00m \u001b[38;5;28;01mimport\u001b[39;00m AlgorithmJob\n\u001b[1;32m    253\u001b[0m \u001b[38;5;28;01mfrom\u001b[39;00m \u001b[38;5;21;01m.\u001b[39;00m\u001b[38;5;21;01malgorithm_result\u001b[39;00m \u001b[38;5;28;01mimport\u001b[39;00m AlgorithmResult\n\u001b[1;32m    254\u001b[0m \u001b[38;5;28;01mfrom\u001b[39;00m \u001b[38;5;21;01m.\u001b[39;00m\u001b[38;5;21;01mvariational_algorithm\u001b[39;00m \u001b[38;5;28;01mimport\u001b[39;00m VariationalAlgorithm, VariationalResult\n",
      "File \u001b[0;32m~/Desktop/PLAYGROUND/qml/myenv/lib/python3.12/site-packages/qiskit_algorithms/algorithm_job.py:16\u001b[0m\n\u001b[1;32m      1\u001b[0m \u001b[38;5;66;03m# This code is part of a Qiskit project.\u001b[39;00m\n\u001b[1;32m      2\u001b[0m \u001b[38;5;66;03m#\u001b[39;00m\n\u001b[1;32m      3\u001b[0m \u001b[38;5;66;03m# (C) Copyright IBM 2022, 2024.\u001b[39;00m\n\u001b[0;32m   (...)\u001b[0m\n\u001b[1;32m     10\u001b[0m \u001b[38;5;66;03m# copyright notice, and modified files need to carry a notice indicating\u001b[39;00m\n\u001b[1;32m     11\u001b[0m \u001b[38;5;66;03m# that they have been altered from the originals.\u001b[39;00m\n\u001b[1;32m     13\u001b[0m \u001b[38;5;124;03m\"\"\"\u001b[39;00m\n\u001b[1;32m     14\u001b[0m \u001b[38;5;124;03mAlgorithmJob class\u001b[39;00m\n\u001b[1;32m     15\u001b[0m \u001b[38;5;124;03m\"\"\"\u001b[39;00m\n\u001b[0;32m---> 16\u001b[0m \u001b[38;5;28;01mfrom\u001b[39;00m \u001b[38;5;21;01mqiskit\u001b[39;00m\u001b[38;5;21;01m.\u001b[39;00m\u001b[38;5;21;01mprimitives\u001b[39;00m\u001b[38;5;21;01m.\u001b[39;00m\u001b[38;5;21;01mprimitive_job\u001b[39;00m \u001b[38;5;28;01mimport\u001b[39;00m PrimitiveJob\n\u001b[1;32m     19\u001b[0m \u001b[38;5;28;01mclass\u001b[39;00m \u001b[38;5;21;01mAlgorithmJob\u001b[39;00m(PrimitiveJob):\n\u001b[1;32m     20\u001b[0m \u001b[38;5;250m    \u001b[39m\u001b[38;5;124;03m\"\"\"\u001b[39;00m\n\u001b[1;32m     21\u001b[0m \u001b[38;5;124;03m    This class is introduced for typing purposes and provides no\u001b[39;00m\n\u001b[1;32m     22\u001b[0m \u001b[38;5;124;03m    additional function beyond that inherited from its parents.\u001b[39;00m\n\u001b[0;32m   (...)\u001b[0m\n\u001b[1;32m     25\u001b[0m \u001b[38;5;124;03m    documentation for more info.\u001b[39;00m\n\u001b[1;32m     26\u001b[0m \u001b[38;5;124;03m    \"\"\"\u001b[39;00m\n",
      "File \u001b[0;32m~/Desktop/PLAYGROUND/qml/myenv/lib/python3.12/site-packages/qiskit/primitives/primitive_job.py:19\u001b[0m\n\u001b[1;32m     16\u001b[0m \u001b[38;5;28;01mimport\u001b[39;00m \u001b[38;5;21;01muuid\u001b[39;00m\n\u001b[1;32m     17\u001b[0m \u001b[38;5;28;01mfrom\u001b[39;00m \u001b[38;5;21;01mconcurrent\u001b[39;00m\u001b[38;5;21;01m.\u001b[39;00m\u001b[38;5;21;01mfutures\u001b[39;00m \u001b[38;5;28;01mimport\u001b[39;00m ThreadPoolExecutor\n\u001b[0;32m---> 19\u001b[0m \u001b[38;5;28;01mfrom\u001b[39;00m \u001b[38;5;21;01mqiskit\u001b[39;00m\u001b[38;5;21;01m.\u001b[39;00m\u001b[38;5;21;01mproviders\u001b[39;00m \u001b[38;5;28;01mimport\u001b[39;00m JobError, JobStatus\n\u001b[1;32m     20\u001b[0m \u001b[38;5;28;01mfrom\u001b[39;00m \u001b[38;5;21;01mqiskit\u001b[39;00m\u001b[38;5;21;01m.\u001b[39;00m\u001b[38;5;21;01mproviders\u001b[39;00m\u001b[38;5;21;01m.\u001b[39;00m\u001b[38;5;21;01mjobstatus\u001b[39;00m \u001b[38;5;28;01mimport\u001b[39;00m JOB_FINAL_STATES\n\u001b[1;32m     22\u001b[0m \u001b[38;5;28;01mfrom\u001b[39;00m \u001b[38;5;21;01m.\u001b[39;00m\u001b[38;5;21;01mbase\u001b[39;00m\u001b[38;5;21;01m.\u001b[39;00m\u001b[38;5;21;01mbase_primitive_job\u001b[39;00m \u001b[38;5;28;01mimport\u001b[39;00m BasePrimitiveJob, ResultT\n",
      "File \u001b[0;32m~/Desktop/PLAYGROUND/qml/myenv/lib/python3.12/site-packages/qiskit/providers/__init__.py:784\u001b[0m\n\u001b[1;32m     13\u001b[0m \u001b[38;5;124;03m\"\"\"\u001b[39;00m\n\u001b[1;32m     14\u001b[0m \u001b[38;5;124;03m=============================================\u001b[39;00m\n\u001b[1;32m     15\u001b[0m \u001b[38;5;124;03mProviders Interface (:mod:`qiskit.providers`)\u001b[39;00m\n\u001b[0;32m   (...)\u001b[0m\n\u001b[1;32m    780\u001b[0m \u001b[38;5;124;03mto wrap a :class:`~.BackendV1` object with a :class:`~.BackendV2` interface.\u001b[39;00m\n\u001b[1;32m    781\u001b[0m \u001b[38;5;124;03m\"\"\"\u001b[39;00m\n\u001b[1;32m    783\u001b[0m \u001b[38;5;66;03m# Providers interface\u001b[39;00m\n\u001b[0;32m--> 784\u001b[0m \u001b[38;5;28;01mfrom\u001b[39;00m \u001b[38;5;21;01mqiskit\u001b[39;00m\u001b[38;5;21;01m.\u001b[39;00m\u001b[38;5;21;01mproviders\u001b[39;00m\u001b[38;5;21;01m.\u001b[39;00m\u001b[38;5;21;01mprovider\u001b[39;00m \u001b[38;5;28;01mimport\u001b[39;00m Provider\n\u001b[1;32m    785\u001b[0m \u001b[38;5;28;01mfrom\u001b[39;00m \u001b[38;5;21;01mqiskit\u001b[39;00m\u001b[38;5;21;01m.\u001b[39;00m\u001b[38;5;21;01mproviders\u001b[39;00m\u001b[38;5;21;01m.\u001b[39;00m\u001b[38;5;21;01mprovider\u001b[39;00m \u001b[38;5;28;01mimport\u001b[39;00m ProviderV1\n\u001b[1;32m    786\u001b[0m \u001b[38;5;28;01mfrom\u001b[39;00m \u001b[38;5;21;01mqiskit\u001b[39;00m\u001b[38;5;21;01m.\u001b[39;00m\u001b[38;5;21;01mproviders\u001b[39;00m\u001b[38;5;21;01m.\u001b[39;00m\u001b[38;5;21;01mbackend\u001b[39;00m \u001b[38;5;28;01mimport\u001b[39;00m Backend\n",
      "File \u001b[0;32m~/Desktop/PLAYGROUND/qml/myenv/lib/python3.12/site-packages/qiskit/providers/provider.py:18\u001b[0m\n\u001b[1;32m     15\u001b[0m \u001b[38;5;28;01mfrom\u001b[39;00m \u001b[38;5;21;01mabc\u001b[39;00m \u001b[38;5;28;01mimport\u001b[39;00m ABC, abstractmethod\n\u001b[1;32m     17\u001b[0m \u001b[38;5;28;01mfrom\u001b[39;00m \u001b[38;5;21;01mqiskit\u001b[39;00m\u001b[38;5;21;01m.\u001b[39;00m\u001b[38;5;21;01mproviders\u001b[39;00m\u001b[38;5;21;01m.\u001b[39;00m\u001b[38;5;21;01mexceptions\u001b[39;00m \u001b[38;5;28;01mimport\u001b[39;00m QiskitBackendNotFoundError\n\u001b[0;32m---> 18\u001b[0m \u001b[38;5;28;01mfrom\u001b[39;00m \u001b[38;5;21;01mqiskit\u001b[39;00m\u001b[38;5;21;01m.\u001b[39;00m\u001b[38;5;21;01mutils\u001b[39;00m \u001b[38;5;28;01mimport\u001b[39;00m deprecate_func\n\u001b[1;32m     21\u001b[0m \u001b[38;5;28;01mclass\u001b[39;00m \u001b[38;5;21;01mProvider\u001b[39;00m:\n\u001b[1;32m     22\u001b[0m \u001b[38;5;250m    \u001b[39m\u001b[38;5;124;03m\"\"\"Base common type for all versioned Provider abstract classes.\u001b[39;00m\n\u001b[1;32m     23\u001b[0m \n\u001b[1;32m     24\u001b[0m \u001b[38;5;124;03m    Note this class should not be inherited from directly, it is intended\u001b[39;00m\n\u001b[0;32m   (...)\u001b[0m\n\u001b[1;32m     27\u001b[0m \u001b[38;5;124;03m    directly.\u001b[39;00m\n\u001b[1;32m     28\u001b[0m \u001b[38;5;124;03m    \"\"\"\u001b[39;00m\n",
      "File \u001b[0;32m~/Desktop/PLAYGROUND/qml/myenv/lib/python3.12/site-packages/qiskit/utils/__init__.py:67\u001b[0m\n\u001b[1;32m     65\u001b[0m \u001b[38;5;28;01mfrom\u001b[39;00m \u001b[38;5;21;01m.\u001b[39;00m\u001b[38;5;21;01mmultiprocessing\u001b[39;00m \u001b[38;5;28;01mimport\u001b[39;00m local_hardware_info\n\u001b[1;32m     66\u001b[0m \u001b[38;5;28;01mfrom\u001b[39;00m \u001b[38;5;21;01m.\u001b[39;00m\u001b[38;5;21;01mmultiprocessing\u001b[39;00m \u001b[38;5;28;01mimport\u001b[39;00m is_main_process\n\u001b[0;32m---> 67\u001b[0m \u001b[38;5;28;01mfrom\u001b[39;00m \u001b[38;5;21;01m.\u001b[39;00m\u001b[38;5;21;01munits\u001b[39;00m \u001b[38;5;28;01mimport\u001b[39;00m apply_prefix, detach_prefix\n\u001b[1;32m     68\u001b[0m \u001b[38;5;28;01mfrom\u001b[39;00m \u001b[38;5;21;01m.\u001b[39;00m\u001b[38;5;21;01mclasstools\u001b[39;00m \u001b[38;5;28;01mimport\u001b[39;00m wrap_method\n\u001b[1;32m     69\u001b[0m \u001b[38;5;28;01mfrom\u001b[39;00m \u001b[38;5;21;01m.\u001b[39;00m\u001b[38;5;21;01mlazy_tester\u001b[39;00m \u001b[38;5;28;01mimport\u001b[39;00m LazyDependencyManager, LazyImportTester, LazySubprocessTester\n",
      "File \u001b[0;32m~/Desktop/PLAYGROUND/qml/myenv/lib/python3.12/site-packages/qiskit/utils/units.py:18\u001b[0m\n\u001b[1;32m     14\u001b[0m \u001b[38;5;28;01mfrom\u001b[39;00m \u001b[38;5;21;01m__future__\u001b[39;00m \u001b[38;5;28;01mimport\u001b[39;00m annotations\n\u001b[1;32m     16\u001b[0m \u001b[38;5;28;01mimport\u001b[39;00m \u001b[38;5;21;01mnumpy\u001b[39;00m \u001b[38;5;28;01mas\u001b[39;00m \u001b[38;5;21;01mnp\u001b[39;00m\n\u001b[0;32m---> 18\u001b[0m \u001b[38;5;28;01mfrom\u001b[39;00m \u001b[38;5;21;01mqiskit\u001b[39;00m\u001b[38;5;21;01m.\u001b[39;00m\u001b[38;5;21;01mcircuit\u001b[39;00m\u001b[38;5;21;01m.\u001b[39;00m\u001b[38;5;21;01mparameterexpression\u001b[39;00m \u001b[38;5;28;01mimport\u001b[39;00m ParameterExpression\n\u001b[1;32m     21\u001b[0m \u001b[38;5;28;01mdef\u001b[39;00m \u001b[38;5;21mapply_prefix\u001b[39m(value: \u001b[38;5;28mfloat\u001b[39m \u001b[38;5;241m|\u001b[39m ParameterExpression, unit: \u001b[38;5;28mstr\u001b[39m) \u001b[38;5;241m-\u001b[39m\u001b[38;5;241m>\u001b[39m \u001b[38;5;28mfloat\u001b[39m \u001b[38;5;241m|\u001b[39m ParameterExpression:\n\u001b[1;32m     22\u001b[0m \u001b[38;5;250m    \u001b[39m\u001b[38;5;124;03m\"\"\"\u001b[39;00m\n\u001b[1;32m     23\u001b[0m \u001b[38;5;124;03m    Given a SI unit prefix and value, apply the prefix to convert to\u001b[39;00m\n\u001b[1;32m     24\u001b[0m \u001b[38;5;124;03m    standard SI unit.\u001b[39;00m\n\u001b[0;32m   (...)\u001b[0m\n\u001b[1;32m     39\u001b[0m \u001b[38;5;124;03m        ValueError: If the ``units`` aren't recognized.\u001b[39;00m\n\u001b[1;32m     40\u001b[0m \u001b[38;5;124;03m    \"\"\"\u001b[39;00m\n",
      "File \u001b[0;32m~/Desktop/PLAYGROUND/qml/myenv/lib/python3.12/site-packages/qiskit/circuit/__init__.py:1273\u001b[0m\n\u001b[1;32m   1271\u001b[0m \u001b[38;5;28;01mfrom\u001b[39;00m \u001b[38;5;21;01m.\u001b[39;00m\u001b[38;5;21;01mexceptions\u001b[39;00m \u001b[38;5;28;01mimport\u001b[39;00m CircuitError\n\u001b[1;32m   1272\u001b[0m \u001b[38;5;28;01mfrom\u001b[39;00m \u001b[38;5;21;01m.\u001b[39;00m \u001b[38;5;28;01mimport\u001b[39;00m _utils\n\u001b[0;32m-> 1273\u001b[0m \u001b[38;5;28;01mfrom\u001b[39;00m \u001b[38;5;21;01m.\u001b[39;00m\u001b[38;5;21;01mquantumcircuit\u001b[39;00m \u001b[38;5;28;01mimport\u001b[39;00m QuantumCircuit\n\u001b[1;32m   1274\u001b[0m \u001b[38;5;28;01mfrom\u001b[39;00m \u001b[38;5;21;01m.\u001b[39;00m\u001b[38;5;21;01mclassicalregister\u001b[39;00m \u001b[38;5;28;01mimport\u001b[39;00m ClassicalRegister, Clbit\n\u001b[1;32m   1275\u001b[0m \u001b[38;5;28;01mfrom\u001b[39;00m \u001b[38;5;21;01m.\u001b[39;00m\u001b[38;5;21;01mquantumregister\u001b[39;00m \u001b[38;5;28;01mimport\u001b[39;00m QuantumRegister, Qubit, AncillaRegister, AncillaQubit\n",
      "File \u001b[0;32m~/Desktop/PLAYGROUND/qml/myenv/lib/python3.12/site-packages/qiskit/circuit/quantumcircuit.py:41\u001b[0m\n\u001b[1;32m     25\u001b[0m \u001b[38;5;28;01mfrom\u001b[39;00m \u001b[38;5;21;01mtyping\u001b[39;00m \u001b[38;5;28;01mimport\u001b[39;00m (\n\u001b[1;32m     26\u001b[0m     Union,\n\u001b[1;32m     27\u001b[0m     Optional,\n\u001b[0;32m   (...)\u001b[0m\n\u001b[1;32m     38\u001b[0m     overload,\n\u001b[1;32m     39\u001b[0m )\n\u001b[1;32m     40\u001b[0m \u001b[38;5;28;01mimport\u001b[39;00m \u001b[38;5;21;01mnumpy\u001b[39;00m \u001b[38;5;28;01mas\u001b[39;00m \u001b[38;5;21;01mnp\u001b[39;00m\n\u001b[0;32m---> 41\u001b[0m \u001b[38;5;28;01mfrom\u001b[39;00m \u001b[38;5;21;01mqiskit\u001b[39;00m\u001b[38;5;21;01m.\u001b[39;00m\u001b[38;5;21;01m_accelerate\u001b[39;00m\u001b[38;5;21;01m.\u001b[39;00m\u001b[38;5;21;01mcircuit\u001b[39;00m \u001b[38;5;28;01mimport\u001b[39;00m CircuitData\n\u001b[1;32m     42\u001b[0m \u001b[38;5;28;01mfrom\u001b[39;00m \u001b[38;5;21;01mqiskit\u001b[39;00m\u001b[38;5;21;01m.\u001b[39;00m\u001b[38;5;21;01m_accelerate\u001b[39;00m\u001b[38;5;21;01m.\u001b[39;00m\u001b[38;5;21;01mcircuit\u001b[39;00m \u001b[38;5;28;01mimport\u001b[39;00m StandardGate\n\u001b[1;32m     43\u001b[0m \u001b[38;5;28;01mfrom\u001b[39;00m \u001b[38;5;21;01mqiskit\u001b[39;00m\u001b[38;5;21;01m.\u001b[39;00m\u001b[38;5;21;01mexceptions\u001b[39;00m \u001b[38;5;28;01mimport\u001b[39;00m QiskitError\n",
      "\u001b[0;31mModuleNotFoundError\u001b[0m: No module named 'qiskit._accelerate.circuit'; 'qiskit._accelerate' is not a package"
     ]
    }
   ],
   "source": [
    "from qiskit_aqua.drivers import QMolecule"
   ]
  },
  {
   "cell_type": "code",
   "execution_count": 1,
   "metadata": {},
   "outputs": [
    {
     "ename": "NameError",
     "evalue": "name 'Molecule' is not defined",
     "output_type": "error",
     "traceback": [
      "\u001b[0;31m---------------------------------------------------------------------------\u001b[0m",
      "\u001b[0;31mNameError\u001b[0m                                 Traceback (most recent call last)",
      "Cell \u001b[0;32mIn[1], line 3\u001b[0m\n\u001b[1;32m      1\u001b[0m \u001b[38;5;66;03m# Code from the paper\u001b[39;00m\n\u001b[1;32m      2\u001b[0m \u001b[38;5;66;03m# HYDROGEN  MOLECULE INFORMATION\u001b[39;00m\n\u001b[0;32m----> 3\u001b[0m molecule \u001b[38;5;241m=\u001b[39m \u001b[43mMolecule\u001b[49m(geometry\u001b[38;5;241m=\u001b[39m[[\u001b[38;5;124m\"\u001b[39m\u001b[38;5;124mH\u001b[39m\u001b[38;5;124m\"\u001b[39m, [\u001b[38;5;241m0.0\u001b[39m, \u001b[38;5;241m0.0\u001b[39m, \u001b[38;5;241m-\u001b[39mdist \u001b[38;5;241m/\u001b[39m \u001b[38;5;241m2\u001b[39m]], [\u001b[38;5;124m\"\u001b[39m\u001b[38;5;124mH\u001b[39m\u001b[38;5;124m\"\u001b[39m, [\u001b[38;5;241m0.0\u001b[39m, \u001b[38;5;241m0.0\u001b[39m, dist \u001b[38;5;241m/\u001b[39m \u001b[38;5;241m2\u001b[39m]]], multiplicity\u001b[38;5;241m=\u001b[39m\u001b[38;5;241m1\u001b[39m, charge\u001b[38;5;241m=\u001b[39m\u001b[38;5;241m0\u001b[39m)\n\u001b[1;32m      4\u001b[0m driver \u001b[38;5;241m=\u001b[39m ElectronicStructureMoleculeDriver(molecule\u001b[38;5;241m=\u001b[39mmolecule, basis\u001b[38;5;241m=\u001b[39m\u001b[38;5;124m\"\u001b[39m\u001b[38;5;124msto3g\u001b[39m\u001b[38;5;124m\"\u001b[39m, driver_type\u001b[38;5;241m=\u001b[39mElectronicStructureDriverType\u001b[38;5;241m.\u001b[39mPYSCF)\n\u001b[1;32m      5\u001b[0m problem \u001b[38;5;241m=\u001b[39m ElectronicStructureProblem(driver, [electronic\u001b[38;5;241m.\u001b[39mFreezeCoreTransformer(freeze_core\u001b[38;5;241m=\u001b[39m\u001b[38;5;28;01mTrue\u001b[39;00m)])\n",
      "\u001b[0;31mNameError\u001b[0m: name 'Molecule' is not defined"
     ]
    }
   ],
   "source": [
    "# Code from the paper\n",
    "# HYDROGEN  MOLECULE INFORMATION\n",
    "molecule = Molecule(geometry=[[\"H\", [0.0, 0.0, -dist / 2]], [\"H\", [0.0, 0.0, dist / 2]]], multiplicity=1, charge=0)\n",
    "driver = ElectronicStructureMoleculeDriver(molecule=molecule, basis=\"sto3g\", driver_type=ElectronicStructureDriverType.PYSCF)\n",
    "problem = ElectronicStructureProblem(driver, [electronic.FreezeCoreTransformer(freeze_core=True)])"
   ]
  },
  {
   "cell_type": "code",
   "execution_count": null,
   "metadata": {},
   "outputs": [],
   "source": [
    "# Code from the paper\n",
    "# SECOND QUANTIZATION\n",
    "hamiltonian = problem.second_q_ops()[0]"
   ]
  },
  {
   "cell_type": "code",
   "execution_count": null,
   "metadata": {},
   "outputs": [],
   "source": [
    "# Code from the paper\n",
    "# JORDAN-WIGNER MAPPING\n",
    "mapper = JordanWignerMapper()\n",
    "converter = QubitConverter(mapper, two_qubit_reduction=False)\n",
    "qubit_op = converter.convert(hamiltonian)"
   ]
  },
  {
   "cell_type": "markdown",
   "metadata": {},
   "source": [
    "\n",
    "We find that hamiltonian can be represented with Pauli matrices:\n",
    "\n",
    "> What's the difference between this and the previous representation?\n",
    "\n",
    "$$\n",
    "H =  − 0.807184 I ⊗ I ⊗ I ⊗ I + 0.175106 Z ⊗ I ⊗ Z ⊗ I \\\\\n",
    "+ 0.169404 I ⊗ Z ⊗ I ⊗ Z \\\\\n",
    "− 0.230474 (I ⊗ I ⊗ Z ⊗ I + Z ⊗ I ⊗ I ⊗ I) \\\\\n",
    "+ 0.173740 (I ⊗ I ⊗ I ⊗ Z + I ⊗ Z ⊗ I ⊗ I) \\\\\n",
    "+ 0.045094 (Y ⊗ Y ⊗ Y ⊗ Y + X ⊗ X ⊗ Y ⊗ Y ) \\\\\n",
    "+ 0.045094 (Y ⊗ Y ⊗ X ⊗ X + X ⊗ X ⊗ X ⊗ X) \\\\\n",
    "+ 0.166582 (X ⊗ I ⊗ I ⊗ Z + I ⊗ Z ⊗ Z ⊗ I) \\\\\n",
    "+ 0.121488 (Z ⊗ Z ⊗ I ⊗ I + I ⊗ I ⊗ Z ⊗ Z)\n",
    "$$"
   ]
  },
  {
   "cell_type": "markdown",
   "metadata": {},
   "source": [
    "From the reference [14] in the paper we choose UCCSD as the Ansatz. Initial state |0101> (using Hartree-Fock method).\n",
    "\n",
    "> What is Hartree-Fock method?"
   ]
  },
  {
   "attachments": {
    "image.png": {
     "image/png": "[encoded data removed]"
    }
   },
   "cell_type": "markdown",
   "metadata": {},
   "source": [
    "And here is the parameterized circuit\n",
    "\n",
    "![image.png](attachment:image.png)"
   ]
  },
  {
   "cell_type": "code",
   "execution_count": null,
   "metadata": {},
   "outputs": [],
   "source": [
    "# Code from the paper\n",
    "# UCCSD as an ANSATZ, variational form\n",
    "init_state = HartreeFock(num_spin_orbitals, num_particles, converter)\n",
    "var_form = UCCSD(converter, num_particles, num_spin_orbitals, initial_state=init_state)"
   ]
  },
  {
   "cell_type": "code",
   "execution_count": null,
   "metadata": {},
   "outputs": [],
   "source": [
    "# Code from the paper\n",
    "# Getting the backend of IBM Quantum\n",
    "provider = IBMQ.enable_account(token)\n",
    "backend = least_busy(provider.backends(filters=lambda x: \n",
    "                                        x.configuration().n_qubits >= 6 \n",
    "                                        and not x.configuration().simulator\n",
    "                                        and x.status().operational == True))\n",
    "print(\"least busy backend: \", backend)"
   ]
  },
  {
   "cell_type": "code",
   "execution_count": null,
   "metadata": {},
   "outputs": [],
   "source": [
    "# Code from the paper\n",
    "# Use built in VQE algorithm\n",
    "optimizer = optimizers.L_BFGS_B(maxiter=20)\n",
    "vqe = VQE(var_form, optimizer, quantum_instance=backend)\n",
    "vqe_calc = vqe.compute_minimum_eigenvalue(qubit_op)\n",
    "vqe_result = problem.interpret(vqe_calc).total_energies[0].real"
   ]
  },
  {
   "cell_type": "code",
   "execution_count": null,
   "metadata": {},
   "outputs": [],
   "source": [
    "# Plotting data\n"
   ]
  }
 ],
 "metadata": {
  "kernelspec": {
   "display_name": "myenv",
   "language": "python",
   "name": "python3"
  },
  "language_info": {
   "codemirror_mode": {
    "name": "ipython",
    "version": 3
   },
   "file_extension": ".py",
   "mimetype": "text/x-python",
   "name": "python",
   "nbconvert_exporter": "python",
   "pygments_lexer": "ipython3",
   "version": "3.12.3"
  }
 },
 "nbformat": 4,
 "nbformat_minor": 2
}
