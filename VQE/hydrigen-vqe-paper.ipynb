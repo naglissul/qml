{
 "cells": [
  {
   "cell_type": "markdown",
   "metadata": {},
   "source": [
    "# Replicating paper on $H_2$ ground state\n",
    "\n",
    "[Use VQE to calculate the ground energy of hydrogen molecules on IBM Quantum](https://arxiv.org/pdf/2305.06538)\n"
   ]
  },
  {
   "cell_type": "markdown",
   "metadata": {},
   "source": [
    "Paper looks very similar to the qiskit tutorial... Also, this paper talks about basics on quantum computing, focusing on basic implementation, not advanced improvement."
   ]
  },
  {
   "cell_type": "markdown",
   "metadata": {},
   "source": [
    "Hamiltonian of hydrogen molecule (calculated with Jordan-Wigner transform):\n",
    "\n",
    "$$\n",
    "\\hat H = -\\frac 12 (\\hat I \\otimes \\hat I + \\hat X \\otimes \\hat X + \\hat Y \\otimes \\hat Y + \\hat Z \\otimes \\hat Z ) + d(\\hat Z \\otimes \\hat I + \\hat I \\otimes \\hat Z)\n",
    "$$\n",
    "\n",
    "Found either using formulas derived in the qiskit tutorial, or use just database with already calculated hamiltonians (PySCF).\n",
    "\n",
    "> How?"
   ]
  },
  {
   "cell_type": "markdown",
   "metadata": {},
   "source": [
    "We find that hamiltonian can be represented with Pauli matrices:\n",
    "\n",
    "> What's the difference between this and the previous representation?\n",
    "\n",
    "$$\n",
    "H =  − 0.807184 I ⊗ I ⊗ I ⊗ I + 0.175106 Z ⊗ I ⊗ Z ⊗ I \\\\\n",
    "+ 0.169404 I ⊗ Z ⊗ I ⊗ Z \\\\\n",
    "− 0.230474 (I ⊗ I ⊗ Z ⊗ I + Z ⊗ I ⊗ I ⊗ I) \\\\\n",
    "+ 0.173740 (I ⊗ I ⊗ I ⊗ Z + I ⊗ Z ⊗ I ⊗ I) \\\\\n",
    "+ 0.045094 (Y ⊗ Y ⊗ Y ⊗ Y + X ⊗ X ⊗ Y ⊗ Y ) \\\\\n",
    "+ 0.045094 (Y ⊗ Y ⊗ X ⊗ X + X ⊗ X ⊗ X ⊗ X) \\\\\n",
    "+ 0.166582 (X ⊗ I ⊗ I ⊗ Z + I ⊗ Z ⊗ Z ⊗ I) \\\\\n",
    "+ 0.121488 (Z ⊗ Z ⊗ I ⊗ I + I ⊗ I ⊗ Z ⊗ Z)\n",
    "$$"
   ]
  },
  {
   "cell_type": "markdown",
   "metadata": {},
   "source": [
    "From the reference [14] in the paper we choose UCCSD as the Ansatz. Initial state |0101> (using Hartree-Fock method).\n",
    "\n",
    "> What is Hartree-Fock method?"
   ]
  },
  {
   "cell_type": "code",
   "execution_count": null,
   "metadata": {},
   "outputs": [],
   "source": []
  }
 ],
 "metadata": {
  "kernelspec": {
   "display_name": "new_env",
   "language": "python",
   "name": "python3"
  },
  "language_info": {
   "codemirror_mode": {
    "name": "ipython",
    "version": 3
   },
   "file_extension": ".py",
   "mimetype": "text/x-python",
   "name": "python",
   "nbconvert_exporter": "python",
   "pygments_lexer": "ipython3",
   "version": "3.12.3"
  }
 },
 "nbformat": 4,
 "nbformat_minor": 2
}
