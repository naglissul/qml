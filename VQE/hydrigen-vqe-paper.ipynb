{
 "cells": [
  {
   "cell_type": "markdown",
   "metadata": {},
   "source": [
    "# Replicating paper on $H_2$ ground state\n",
    "\n",
    "[Use VQE to calculate the ground energy of hydrogen molecules on IBM Quantum](https://arxiv.org/pdf/2305.06538)\n"
   ]
  },
  {
   "cell_type": "markdown",
   "metadata": {},
   "source": [
    "Paper looks very similar to the qiskit tutorial... Also, this paper talks about basics on quantum computing, focusing on basic implementation, not advanced improvement."
   ]
  },
  {
   "cell_type": "markdown",
   "metadata": {},
   "source": [
    "Hamiltonian of hydrogen molecule (calculated with Jordan-Wigner transform):\n",
    "\n",
    "$$\n",
    "\\hat H = -\\frac 12 (\\hat I \\otimes \\hat I + \\hat X \\otimes \\hat X + \\hat Y \\otimes \\hat Y + \\hat Z \\otimes \\hat Z ) + d(\\hat Z \\otimes \\hat I + \\hat I \\otimes \\hat Z)\n",
    "$$\n",
    "\n",
    "Found either using formulas derived in the qiskit tutorial, or use just database with already calculated hamiltonians (PySCF)."
   ]
  }
 ],
 "metadata": {
  "language_info": {
   "name": "python"
  }
 },
 "nbformat": 4,
 "nbformat_minor": 2
}
