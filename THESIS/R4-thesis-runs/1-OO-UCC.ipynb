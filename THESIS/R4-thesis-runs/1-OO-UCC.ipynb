{
 "cells": [
  {
   "cell_type": "markdown",
   "id": "5219b6ba",
   "metadata": {},
   "source": [
    "# 2025-05-04 thesis runs. oo-UCC ANSATZ\n",
    "\n",
    "Fedorov 2022:\n",
    "\n",
    "https://link.springer.com/content/pdf/10.1186/s41313-021-00032-6.pdf\n",
    "\n",
    "Mizukami 2020:\n",
    "\n",
    "https://journals.aps.org/prresearch/abstract/10.1103/PhysRevResearch.2.033421\n",
    "\n",
    "$H_2$ molecule, 0.73A distance, JW map.\n",
    "\n",
    "L_BFGS_B optimizer. Running on Aer simulator"
   ]
  },
  {
   "cell_type": "code",
   "execution_count": 1,
   "id": "4e109da8",
   "metadata": {},
   "outputs": [],
   "source": [
    "from qiskit.quantum_info import SparsePauliOp"
   ]
  },
  {
   "cell_type": "code",
   "execution_count": 2,
   "id": "a5e5e6b2",
   "metadata": {},
   "outputs": [],
   "source": [
    "hamiltonian = SparsePauliOp(['IIII', 'IIIZ', 'IIZI', 'IIZZ', 'IZII', 'IZIZ', 'ZIII', 'ZIIZ', 'YYYY', 'XXYY', 'YYXX', 'XXXX', 'IZZI', 'ZIZI', 'ZZII'],\n",
    "              coeffs=[-0.81054798+0.j,  0.17218393+0.j, -0.22575349+0.j,  0.12091263+0.j,\n",
    "  0.17218393+0.j,  0.16892754+0.j, -0.22575349+0.j,  0.16614543+0.j,\n",
    "  0.0452328 +0.j,  0.0452328 +0.j,  0.0452328 +0.j,  0.0452328 +0.j,\n",
    "  0.16614543+0.j,  0.17464343+0.j,  0.12091263+0.j])"
   ]
  },
  {
   "cell_type": "markdown",
   "id": "7bc79c8a",
   "metadata": {},
   "source": [
    "# NAh, not gonna happen..."
   ]
  }
 ],
 "metadata": {
  "kernelspec": {
   "display_name": "myenv",
   "language": "python",
   "name": "python3"
  },
  "language_info": {
   "codemirror_mode": {
    "name": "ipython",
    "version": 3
   },
   "file_extension": ".py",
   "mimetype": "text/x-python",
   "name": "python",
   "nbconvert_exporter": "python",
   "pygments_lexer": "ipython3",
   "version": "3.12.3"
  }
 },
 "nbformat": 4,
 "nbformat_minor": 5
}
