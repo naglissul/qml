{
 "cells": [
  {
   "cell_type": "markdown",
   "id": "3a93b21c",
   "metadata": {},
   "source": [
    "# ADAPT-VQE variation\n",
    "\n",
    "Original: https://www.nature.com/articles/s41467-019-10988-2\n",
    "\n",
    "This is an adaptive circuit... https://pennylane.ai/qml/demos/tutorial_adaptive_circuits\n",
    "\n",
    "Qiskit community tutorial: https://github.com/qiskit-community/qiskit-community-tutorials/blob/master/chemistry/adaptive_VQE.ipynb\n",
    "\n",
    "Deprecated qiskit AdaptVQE implementation: https://docs.quantum.ibm.com/api/qiskit/0.44/qiskit.algorithms.minimum_eigensolvers.AdaptVQE\n",
    "\n",
    "Review: https://link.springer.com/article/10.1186/S41313-021-00032-6"
   ]
  },
  {
   "cell_type": "code",
   "execution_count": null,
   "id": "8a355a45",
   "metadata": {},
   "outputs": [
    {
     "name": "stderr",
     "output_type": "stream",
     "text": [
      "/tmp/ipykernel_1407726/3558489826.py:36: DeprecationWarning: The class ``qiskit.primitives.estimator.Estimator`` is deprecated as of qiskit 1.2. It will be removed no earlier than 3 months after the release date. All implementations of the `BaseEstimatorV1` interface have been deprecated in favor of their V2 counterparts. The V2 alternative for the `Estimator` class is `StatevectorEstimator`.\n",
      "  estimator = Estimator()\n"
     ]
    },
    {
     "name": "stdout",
     "output_type": "stream",
     "text": [
      "+-----------+---------------------+--------------------------------+\n",
      "|   Ansatz  |   Energy (Hartree)  |             Gates              |\n",
      "+-----------+---------------------+--------------------------------+\n",
      "|   UCCSD   | -1.1001883328996638 | OrderedDict({'EvolvedOps': 1}) |\n",
      "| ADAPT-VQE | -1.1001795367509293 | OrderedDict({'EvolvedOps': 1}) |\n",
      "+-----------+---------------------+--------------------------------+\n"
     ]
    }
   ],
   "source": [
    "# Qiskit community tutorial, implementation using qiskit's AdaptVQE()\n",
    "\n",
    "import numpy as np\n",
    "\n",
    "from qiskit_nature.second_q.drivers import PySCFDriver\n",
    "from qiskit_nature.second_q.formats import MoleculeInfo\n",
    "from qiskit_nature.second_q.mappers import ParityMapper\n",
    "from qiskit_nature.second_q.algorithms import GroundStateEigensolver\n",
    "from qiskit_nature.second_q.circuit.library import HartreeFock, UCCSD\n",
    "from qiskit_nature.second_q.transformers import FreezeCoreTransformer\n",
    "\n",
    "from qiskit_algorithms.optimizers import SLSQP\n",
    "from qiskit_algorithms.minimum_eigensolvers import AdaptVQE, VQE\n",
    "\n",
    "from qiskit.primitives import Estimator\n",
    "\n",
    "\n",
    "info = MoleculeInfo([\"Li\", \"H\"], [(0.0, 0.0, 0.0), (0.0, 0.0, 1.5)])\n",
    "\n",
    "driver = PySCFDriver.from_molecule(info, basis=\"sto3g\")\n",
    "molecule = driver.run()\n",
    "\n",
    "transformer = FreezeCoreTransformer()\n",
    "molecule = transformer.transform(molecule)\n",
    "hamiltonian = molecule.hamiltonian.second_q_op()\n",
    "mapper = ParityMapper(num_particles=molecule.num_particles)\n",
    "tapered_mapper = molecule.get_tapered_mapper(mapper)\n",
    "qubit_op = tapered_mapper.map(hamiltonian)\n",
    "\n",
    "init_state = HartreeFock(\n",
    "            molecule.num_spatial_orbitals,\n",
    "            molecule.num_particles,\n",
    "            tapered_mapper,\n",
    "        )\n",
    "\n",
    "estimator = Estimator()\n",
    "\n",
    "optimizer = SLSQP(maxiter=10000, ftol=1e-9)\n",
    "\n",
    "\n",
    "\n",
    "vqe_ansatz = UCCSD(\n",
    "    molecule.num_spatial_orbitals,\n",
    "    molecule.num_particles,\n",
    "    tapered_mapper,\n",
    "    initial_state=init_state\n",
    ")\n",
    "vqe = VQE(estimator, vqe_ansatz, optimizer)\n",
    "vqe.initial_point = [0] * vqe_ansatz.num_parameters\n",
    "algo = GroundStateEigensolver(tapered_mapper, vqe)\n",
    "result_vqe = algo.solve(molecule)\n",
    "energy_vqe = result_vqe.eigenvalues[0]\n",
    "\n",
    "\n",
    "\n",
    "\n",
    "adapt_vqe_ansatz = UCCSD(\n",
    "    molecule.num_spatial_orbitals,\n",
    "    molecule.num_particles,\n",
    "    tapered_mapper,\n",
    "    initial_state=init_state\n",
    ")\n",
    "\n",
    "adapt_vqe = AdaptVQE(VQE(estimator, adapt_vqe_ansatz, optimizer))\n",
    "result_adapt_vqe = adapt_vqe.compute_minimum_eigenvalue(qubit_op)\n",
    "energy_adapt_vqe = result_adapt_vqe.eigenvalue\n",
    "\n",
    "\n",
    "from prettytable import PrettyTable\n",
    "\n",
    "table = PrettyTable()\n",
    "table.field_names = [\"Ansatz\",\"Energy (Hartree)\",\"Gates\"]\n",
    "\n",
    "vqe_cirq = result_vqe.raw_result.optimal_circuit\n",
    "table.add_row(['UCCSD', str(energy_vqe), vqe_cirq.count_ops()])\n",
    "\n",
    "adapt_vqe_cirq = result_adapt_vqe.optimal_circuit\n",
    "table.add_row(['ADAPT-VQE', str(result_adapt_vqe.eigenvalue), adapt_vqe_cirq.count_ops()])\n",
    "\n",
    "print(table)"
   ]
  },
  {
   "cell_type": "markdown",
   "id": "30d4e868",
   "metadata": {},
   "source": [
    "> Need to expand according to the docs on github"
   ]
  }
 ],
 "metadata": {
  "kernelspec": {
   "display_name": "myenv",
   "language": "python",
   "name": "python3"
  },
  "language_info": {
   "codemirror_mode": {
    "name": "ipython",
    "version": 3
   },
   "file_extension": ".py",
   "mimetype": "text/x-python",
   "name": "python",
   "nbconvert_exporter": "python",
   "pygments_lexer": "ipython3",
   "version": "3.12.3"
  }
 },
 "nbformat": 4,
 "nbformat_minor": 5
}
