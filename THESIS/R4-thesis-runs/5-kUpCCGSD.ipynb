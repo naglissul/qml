{
 "cells": [
  {
   "cell_type": "markdown",
   "id": "dffcf60d",
   "metadata": {},
   "source": [
    "# kUpCCGSD ansatz\n",
    "\n",
    "Original: https://pubs.acs.org/doi/full/10.1021/acs.jctc.8b01004\n",
    "\n",
    "Review: https://link.springer.com/article/10.1186/S41313-021-00032-6\n",
    "\n",
    "Comparison with UCCSD: https://www.nature.com/articles/s41598-022-11537-6 https://github.com/hclim0213/QC_SN2/blob/main/example.py"
   ]
  },
  {
   "cell_type": "markdown",
   "id": "5b57e82d",
   "metadata": {},
   "source": [
    "qiskit_nature.second_q.circuit.library:\n",
    "\n",
    "- CHC\n",
    "- PUCCD\n",
    "- PUCCSD\n",
    "- SUCCD\n",
    "- UCC\n",
    "- UCCSD\n",
    "- UVCC\n",
    "- UVCCSD\n",
    "\n",
    "tequila.quantumchemistry:\n",
    "\n",
    "- make_upccgsd_ansatz\n",
    "- make_uccsd_ansatz\n",
    "- make_spa_ansatz\n",
    "\n",
    "## Building ansatz with tequila, running with qiskit\n",
    "\n",
    "> checkout [5.1-tequila-run.py](./5-kUpCCGSD.ipynb)"
   ]
  }
 ],
 "metadata": {
  "kernelspec": {
   "display_name": "myenv",
   "language": "python",
   "name": "python3"
  },
  "language_info": {
   "codemirror_mode": {
    "name": "ipython",
    "version": 3
   },
   "file_extension": ".py",
   "mimetype": "text/x-python",
   "name": "python",
   "nbconvert_exporter": "python",
   "pygments_lexer": "ipython3",
   "version": "3.12.3"
  }
 },
 "nbformat": 4,
 "nbformat_minor": 5
}
