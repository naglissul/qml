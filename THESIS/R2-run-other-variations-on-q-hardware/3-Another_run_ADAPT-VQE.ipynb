{
 "cells": [
  {
   "cell_type": "markdown",
   "id": "da1647aa",
   "metadata": {},
   "source": [
    "# Try to run ADAPT-VQE on hydrogen\n",
    "\n",
    "I guess just on simulator will be enough (?)\n",
    "\n",
    "There is `AdaptVQE` function in qiskit..."
   ]
  }
 ],
 "metadata": {
  "kernelspec": {
   "display_name": "myenv",
   "language": "python",
   "name": "python3"
  },
  "language_info": {
   "codemirror_mode": {
    "name": "ipython",
    "version": 3
   },
   "file_extension": ".py",
   "mimetype": "text/x-python",
   "name": "python",
   "nbconvert_exporter": "python",
   "pygments_lexer": "ipython3",
   "version": "3.12.3"
  }
 },
 "nbformat": 4,
 "nbformat_minor": 5
}
