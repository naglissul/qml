{
 "cells": [
  {
   "cell_type": "markdown",
   "metadata": {},
   "source": [
    "# Run on Q hardware\n",
    "\n",
    "First actual step.\n",
    "\n",
    "> 04-02"
   ]
  },
  {
   "cell_type": "markdown",
   "metadata": {},
   "source": [
    "$\\boxed{H_2 \\text{ computed -1.857275, (adding nuclear repulsion -> -1.137306 (actual))}}$"
   ]
  },
  {
   "cell_type": "markdown",
   "metadata": {},
   "source": [
    "## Initial, running on simulator\n",
    "\n",
    "Copy from [this file](../../VQE/8-modifying-and-researching.ipynb)\n",
    "\n",
    "[+ StatevectorEstimator](https://docs.quantum.ibm.com/api/qiskit/qiskit.primitives.StatevectorEstimator)"
   ]
  },
  {
   "cell_type": "code",
   "execution_count": 1,
   "metadata": {},
   "outputs": [
    {
     "name": "stdout",
     "output_type": "stream",
     "text": [
      "MOLECULAR STRUCTURE:\n",
      "orbitals:  2\n",
      "particles:  (1, 1)\n",
      "\n",
      "QUBIT HAMILTONIAN:\n",
      "SparsePauliOp(['IIII', 'IIIZ', 'IIZI', 'IIZZ', 'IZII', 'IZIZ', 'ZIII', 'ZIIZ', 'YYYY', 'XXYY', 'YYXX', 'XXXX', 'IZZI', 'ZIZI', 'ZZII'],\n",
      "              coeffs=[-0.81054798+0.j,  0.17218393+0.j, -0.22575349+0.j,  0.12091263+0.j,\n",
      "  0.17218393+0.j,  0.16892754+0.j, -0.22575349+0.j,  0.16614543+0.j,\n",
      "  0.0452328 +0.j,  0.0452328 +0.j,  0.0452328 +0.j,  0.0452328 +0.j,\n",
      "  0.16614543+0.j,  0.17464343+0.j,  0.12091263+0.j])\n",
      "\n",
      "RESULTS:\n",
      "Optimal Parameters: [-6.91920998e-08 -1.18038255e-07 -1.11936379e-01]\n",
      "Optimal Energy: -1.857274984196156\n"
     ]
    },
    {
     "data": {
      "image/png": "[encoded data removed]",
      "text/plain": [
       "<Figure size 640x480 with 1 Axes>"
      ]
     },
     "metadata": {},
     "output_type": "display_data"
    }
   ],
   "source": [
    "from qiskit_nature.second_q.drivers import PySCFDriver\n",
    "from qiskit_nature.units import DistanceUnit\n",
    "from qiskit_algorithms.optimizers import L_BFGS_B\n",
    "from qiskit_nature.second_q.circuit.library import HartreeFock, UCCSD\n",
    "import numpy as np\n",
    "from qiskit.primitives import StatevectorEstimator\n",
    "from matplotlib import pyplot as plt\n",
    "\n",
    "driver = PySCFDriver(\n",
    "    atom='H .0 .0 .0; H .0 .0 0.735',\n",
    "    unit=DistanceUnit.ANGSTROM,\n",
    "    basis='sto3g',\n",
    ")\n",
    "problem = driver.run()\n",
    "\n",
    "print(\"MOLECULAR STRUCTURE:\")\n",
    "print(\"orbitals: \", problem.num_spatial_orbitals)\n",
    "print(\"particles: \", problem.num_particles)\n",
    "\n",
    "from qiskit_nature.second_q.mappers import JordanWignerMapper\n",
    "\n",
    "mapper = JordanWignerMapper()\n",
    "\n",
    "qubit_hamiltonian = mapper.map(problem.hamiltonian.second_q_op())\n",
    "print(\"\\nQUBIT HAMILTONIAN:\")\n",
    "print(qubit_hamiltonian)\n",
    "\n",
    "optimizer = L_BFGS_B(maxfun=15)\n",
    "\n",
    "ansatz = UCCSD(\n",
    "    problem.num_spatial_orbitals,\n",
    "    problem.num_particles,\n",
    "    mapper,\n",
    "    initial_state=HartreeFock(\n",
    "        problem.num_spatial_orbitals,\n",
    "        problem.num_particles,\n",
    "        mapper,\n",
    "    ),\n",
    ")\n",
    "\n",
    "initial_point = np.zeros(ansatz.num_parameters)\n",
    "estimator = StatevectorEstimator()\n",
    "results = []\n",
    "\n",
    "def estimate_energy(parameters):\n",
    "    job = estimator.run(\n",
    "        [(ansatz, qubit_hamiltonian, parameters)]\n",
    "    )\n",
    "    result = job.result()[0].data.evs\n",
    "    results.append(result)\n",
    "    return result\n",
    "\n",
    "result = optimizer.minimize(fun=estimate_energy, x0=initial_point)\n",
    "\n",
    "print(\"\\nRESULTS:\")\n",
    "print(\"Optimal Parameters:\", result.x)\n",
    "print(\"Optimal Energy:\", result.fun)\n",
    "\n",
    "plt.plot(results)\n",
    "plt.xlabel('Iterations')\n",
    "plt.xticks(range(len(results)))\n",
    "plt.ylabel('Energy')\n",
    "plt.title('Energy Convergence')\n",
    "plt.show()\n"
   ]
  },
  {
   "cell_type": "markdown",
   "metadata": {},
   "source": [
    "## Basic example of running iterations on IBMQ"
   ]
  },
  {
   "cell_type": "code",
   "execution_count": 2,
   "metadata": {},
   "outputs": [
    {
     "data": {
      "image/png": "[encoded data removed]",
      "text/plain": [
       "<Figure size 519.897x117.056 with 1 Axes>"
      ]
     },
     "execution_count": 2,
     "metadata": {},
     "output_type": "execute_result"
    }
   ],
   "source": [
    "from qiskit import QuantumCircuit\n",
    "from qiskit.circuit import Parameter\n",
    "import numpy as np\n",
    "\n",
    "qc1 = QuantumCircuit(1)\n",
    "theta = Parameter('θ')\n",
    "\n",
    "qc1.rz(np.pi/2, 0)\n",
    "qc1.sx(0)\n",
    "qc1.rz(theta, 0)\n",
    "qc1.sx(0)\n",
    "qc1.rz(np.pi/2, 0)\n",
    "\n",
    "qc1.draw(output='mpl')"
   ]
  },
  {
   "cell_type": "code",
   "execution_count": 3,
   "metadata": {},
   "outputs": [
    {
     "name": "stdout",
     "output_type": "stream",
     "text": [
      "-0.9553364891256056\n",
      "-0.1152034765882376\n"
     ]
    }
   ],
   "source": [
    "from qiskit.primitives import StatevectorEstimator as EstimatorSim\n",
    "from qiskit.quantum_info import Pauli\n",
    "\n",
    "estimator_sim = EstimatorSim()\n",
    "observable = Pauli(\"Z\")\n",
    "initial_params = [0.3]\n",
    "\n",
    "job = estimator_sim.run(\n",
    "        [(qc1, observable, initial_params)],\n",
    "    )\n",
    "result = job.result()[0].data.evs\n",
    "print(result)\n",
    "\n",
    "result = result - 0.5\n",
    "job = estimator_sim.run(\n",
    "        [(qc1, observable, [result])],\n",
    "    )\n",
    "result = job.result()[0].data.evs\n",
    "print(result)\n"
   ]
  },
  {
   "cell_type": "code",
   "execution_count": 4,
   "metadata": {},
   "outputs": [
    {
     "name": "stdout",
     "output_type": "stream",
     "text": [
      "Done getting backend\n"
     ]
    }
   ],
   "source": [
    "from qiskit import transpile\n",
    "from qiskit_ibm_runtime import QiskitRuntimeService\n",
    "from qiskit_ibm_runtime import EstimatorV2 as Estimator\n",
    "\n",
    "backend_name = \"ibm_brisbane\"\n",
    "service = QiskitRuntimeService()\n",
    "backend = service.backend(backend_name)\n",
    "print(\"Done getting backend\")"
   ]
  },
  {
   "cell_type": "code",
   "execution_count": 5,
   "metadata": {},
   "outputs": [],
   "source": [
    "observable = Pauli(\"Z\")\n",
    "transpiled_qcs = transpile([qc1], backend=backend, optimization_level=1)\n",
    "observable = observable.apply_layout(transpiled_qcs[0].layout)\n",
    "\n",
    "estimator = Estimator(mode=backend)\n",
    "estimator.options.resilience_level = 1\n",
    "estimator.options.dynamical_decoupling.enable = True\n",
    "estimator.options.dynamical_decoupling.sequence_type = \"XY4\""
   ]
  },
  {
   "cell_type": "code",
   "execution_count": 6,
   "metadata": {},
   "outputs": [
    {
     "name": "stdout",
     "output_type": "stream",
     "text": [
      "Job submitted: czxa670rxz8g008f1nm0\n",
      "-0.9506973089766254\n"
     ]
    }
   ],
   "source": [
    "# not using transpiled\n",
    "initial_params = [0.3]\n",
    "\n",
    "job2 = estimator.run([(qc1, Pauli(\"Z\"), initial_params)])\n",
    "print(f\"Job submitted: {job2.job_id()}\")\n",
    "\n",
    "# Wait for the job to complete\n",
    "result = job2.result()\n",
    "print(result[0].data.evs)"
   ]
  },
  {
   "cell_type": "code",
   "execution_count": 7,
   "metadata": {},
   "outputs": [
    {
     "name": "stdout",
     "output_type": "stream",
     "text": [
      "Job submitted: czxa6hjnhqag008tmea0\n",
      "-0.9674076988654994\n"
     ]
    }
   ],
   "source": [
    "\n",
    "initial_params = [0.3]\n",
    "\n",
    "job2 = estimator.run([(transpiled_qcs[0], observable, initial_params)])\n",
    "print(f\"Job submitted: {job2.job_id()}\")\n",
    "\n",
    "# Wait for the job to complete\n",
    "result = job2.result()\n",
    "print(result[0].data.evs)"
   ]
  },
  {
   "cell_type": "code",
   "execution_count": 8,
   "metadata": {},
   "outputs": [
    {
     "name": "stdout",
     "output_type": "stream",
     "text": [
      "2025-04-12 19:31:06.641229 Job submitted: czxa6pakzhn0008d4jx0\n",
      "2025-04-12 19:31:24.773282 -0.9928161866473341\n",
      "2025-04-12 19:31:27.025754 Job submitted: czxa6vbnhqag008tmedg\n"
     ]
    },
    {
     "ename": "KeyboardInterrupt",
     "evalue": "",
     "output_type": "error",
     "traceback": [
      "\u001b[0;31m---------------------------------------------------------------------------\u001b[0m",
      "\u001b[0;31mKeyboardInterrupt\u001b[0m                         Traceback (most recent call last)",
      "Cell \u001b[0;32mIn[8], line 19\u001b[0m\n\u001b[1;32m     16\u001b[0m \u001b[38;5;28mprint\u001b[39m(\u001b[38;5;124mf\u001b[39m\u001b[38;5;124m\"\u001b[39m\u001b[38;5;132;01m{\u001b[39;00mtimestamp()\u001b[38;5;132;01m}\u001b[39;00m\u001b[38;5;124m Job submitted: \u001b[39m\u001b[38;5;132;01m{\u001b[39;00mjob2\u001b[38;5;241m.\u001b[39mjob_id()\u001b[38;5;132;01m}\u001b[39;00m\u001b[38;5;124m\"\u001b[39m)\n\u001b[1;32m     18\u001b[0m \u001b[38;5;66;03m# Wait for the job to complete\u001b[39;00m\n\u001b[0;32m---> 19\u001b[0m result \u001b[38;5;241m=\u001b[39m \u001b[43mjob2\u001b[49m\u001b[38;5;241;43m.\u001b[39;49m\u001b[43mresult\u001b[49m\u001b[43m(\u001b[49m\u001b[43m)\u001b[49m[\u001b[38;5;241m0\u001b[39m]\u001b[38;5;241m.\u001b[39mdata\u001b[38;5;241m.\u001b[39mevs\n\u001b[1;32m     20\u001b[0m \u001b[38;5;28mprint\u001b[39m(\u001b[38;5;124mf\u001b[39m\u001b[38;5;124m\"\u001b[39m\u001b[38;5;132;01m{\u001b[39;00mtimestamp()\u001b[38;5;132;01m}\u001b[39;00m\u001b[38;5;124m \u001b[39m\u001b[38;5;132;01m{\u001b[39;00mresult\u001b[38;5;132;01m}\u001b[39;00m\u001b[38;5;124m\"\u001b[39m)\n",
      "File \u001b[0;32m~/Desktop/PLAYGROUND/qml/myenv/lib/python3.12/site-packages/qiskit_ibm_runtime/runtime_job_v2.py:133\u001b[0m, in \u001b[0;36mRuntimeJobV2.result\u001b[0;34m(self, timeout, decoder)\u001b[0m\n\u001b[1;32m    118\u001b[0m \u001b[38;5;250m\u001b[39m\u001b[38;5;124;03m\"\"\"Return the results of the job.\u001b[39;00m\n\u001b[1;32m    119\u001b[0m \n\u001b[1;32m    120\u001b[0m \u001b[38;5;124;03mArgs:\u001b[39;00m\n\u001b[0;32m   (...)\u001b[0m\n\u001b[1;32m    130\u001b[0m \u001b[38;5;124;03m    RuntimeInvalidStateError: If the job was cancelled, and attempting to retrieve result.\u001b[39;00m\n\u001b[1;32m    131\u001b[0m \u001b[38;5;124;03m\"\"\"\u001b[39;00m\n\u001b[1;32m    132\u001b[0m _decoder \u001b[38;5;241m=\u001b[39m decoder \u001b[38;5;129;01mor\u001b[39;00m \u001b[38;5;28mself\u001b[39m\u001b[38;5;241m.\u001b[39m_final_result_decoder\n\u001b[0;32m--> 133\u001b[0m \u001b[38;5;28;43mself\u001b[39;49m\u001b[38;5;241;43m.\u001b[39;49m\u001b[43mwait_for_final_state\u001b[49m\u001b[43m(\u001b[49m\u001b[43mtimeout\u001b[49m\u001b[38;5;241;43m=\u001b[39;49m\u001b[43mtimeout\u001b[49m\u001b[43m)\u001b[49m\n\u001b[1;32m    134\u001b[0m \u001b[38;5;28;01mif\u001b[39;00m \u001b[38;5;28mself\u001b[39m\u001b[38;5;241m.\u001b[39m_status \u001b[38;5;241m==\u001b[39m \u001b[38;5;124m\"\u001b[39m\u001b[38;5;124mERROR\u001b[39m\u001b[38;5;124m\"\u001b[39m:\n\u001b[1;32m    135\u001b[0m     error_message \u001b[38;5;241m=\u001b[39m \u001b[38;5;28mself\u001b[39m\u001b[38;5;241m.\u001b[39m_reason \u001b[38;5;28;01mif\u001b[39;00m \u001b[38;5;28mself\u001b[39m\u001b[38;5;241m.\u001b[39m_reason \u001b[38;5;28;01melse\u001b[39;00m \u001b[38;5;28mself\u001b[39m\u001b[38;5;241m.\u001b[39m_error_message\n",
      "File \u001b[0;32m~/Desktop/PLAYGROUND/qml/myenv/lib/python3.12/site-packages/qiskit_ibm_runtime/runtime_job_v2.py:252\u001b[0m, in \u001b[0;36mRuntimeJobV2.wait_for_final_state\u001b[0;34m(self, timeout)\u001b[0m\n\u001b[1;32m    248\u001b[0m         \u001b[38;5;28;01mif\u001b[39;00m timeout \u001b[38;5;129;01mis\u001b[39;00m \u001b[38;5;129;01mnot\u001b[39;00m \u001b[38;5;28;01mNone\u001b[39;00m \u001b[38;5;129;01mand\u001b[39;00m elapsed_time \u001b[38;5;241m>\u001b[39m\u001b[38;5;241m=\u001b[39m timeout:\n\u001b[1;32m    249\u001b[0m             \u001b[38;5;28;01mraise\u001b[39;00m RuntimeJobTimeoutError(\n\u001b[1;32m    250\u001b[0m                 \u001b[38;5;124mf\u001b[39m\u001b[38;5;124m\"\u001b[39m\u001b[38;5;124mTimed out waiting for job to complete after \u001b[39m\u001b[38;5;132;01m{\u001b[39;00mtimeout\u001b[38;5;132;01m}\u001b[39;00m\u001b[38;5;124m secs.\u001b[39m\u001b[38;5;124m\"\u001b[39m\n\u001b[1;32m    251\u001b[0m             )\n\u001b[0;32m--> 252\u001b[0m         \u001b[43mtime\u001b[49m\u001b[38;5;241;43m.\u001b[39;49m\u001b[43msleep\u001b[49m\u001b[43m(\u001b[49m\u001b[38;5;241;43m0.1\u001b[39;49m\u001b[43m)\u001b[49m\n\u001b[1;32m    253\u001b[0m         status \u001b[38;5;241m=\u001b[39m \u001b[38;5;28mself\u001b[39m\u001b[38;5;241m.\u001b[39mstatus()\n\u001b[1;32m    254\u001b[0m \u001b[38;5;28;01mexcept\u001b[39;00m futures\u001b[38;5;241m.\u001b[39mTimeoutError:\n",
      "\u001b[0;31mKeyboardInterrupt\u001b[0m: "
     ]
    }
   ],
   "source": [
    "from datetime import datetime\n",
    "def timestamp():\n",
    "    return datetime.now()\n",
    "\n",
    "initial_params = [0.1]\n",
    "job2 = estimator.run([(transpiled_qcs[0], observable, initial_params)])\n",
    "print(f\"{timestamp()} Job submitted: {job2.job_id()}\")\n",
    "\n",
    "# Wait for the job to complete\n",
    "result = job2.result()[0].data.evs\n",
    "print(f\"{timestamp()} {result}\")\n",
    "\n",
    "result = result - 0.5\n",
    "\n",
    "job2 = estimator.run([(transpiled_qcs[0], observable, [result])])\n",
    "print(f\"{timestamp()} Job submitted: {job2.job_id()}\")\n",
    "\n",
    "# Wait for the job to complete\n",
    "result = job2.result()[0].data.evs\n",
    "print(f\"{timestamp()} {result}\")\n"
   ]
  },
  {
   "cell_type": "markdown",
   "metadata": {},
   "source": [
    "## Bit by bit try VQE on IBMQ"
   ]
  },
  {
   "cell_type": "code",
   "execution_count": 9,
   "metadata": {},
   "outputs": [
    {
     "name": "stdout",
     "output_type": "stream",
     "text": [
      "MOLECULAR STRUCTURE:\n",
      "orbitals:  2\n",
      "particles:  (1, 1)\n",
      "\n",
      "QUBIT HAMILTONIAN:\n",
      "SparsePauliOp(['IIII', 'IIIZ', 'IIZI', 'IIZZ', 'IZII', 'IZIZ', 'ZIII', 'ZIIZ', 'YYYY', 'XXYY', 'YYXX', 'XXXX', 'IZZI', 'ZIZI', 'ZZII'],\n",
      "              coeffs=[-0.81054798+0.j,  0.17218393+0.j, -0.22575349+0.j,  0.12091263+0.j,\n",
      "  0.17218393+0.j,  0.16892754+0.j, -0.22575349+0.j,  0.16614543+0.j,\n",
      "  0.0452328 +0.j,  0.0452328 +0.j,  0.0452328 +0.j,  0.0452328 +0.j,\n",
      "  0.16614543+0.j,  0.17464343+0.j,  0.12091263+0.j])\n"
     ]
    }
   ],
   "source": [
    "from qiskit_nature.second_q.drivers import PySCFDriver\n",
    "from qiskit_nature.units import DistanceUnit\n",
    "from qiskit_algorithms.optimizers import L_BFGS_B\n",
    "from qiskit_nature.second_q.circuit.library import HartreeFock, UCCSD\n",
    "import numpy as np\n",
    "from matplotlib import pyplot as plt\n",
    "\n",
    "driver = PySCFDriver(\n",
    "    atom='H .0 .0 .0; H .0 .0 0.735',\n",
    "    unit=DistanceUnit.ANGSTROM,\n",
    "    basis='sto3g',\n",
    ")\n",
    "problem = driver.run()\n",
    "\n",
    "print(\"MOLECULAR STRUCTURE:\")\n",
    "print(\"orbitals: \", problem.num_spatial_orbitals)\n",
    "print(\"particles: \", problem.num_particles)\n",
    "\n",
    "from qiskit_nature.second_q.mappers import JordanWignerMapper\n",
    "\n",
    "mapper = JordanWignerMapper()\n",
    "\n",
    "qubit_hamiltonian = mapper.map(problem.hamiltonian.second_q_op())\n",
    "print(\"\\nQUBIT HAMILTONIAN:\")\n",
    "print(qubit_hamiltonian)\n",
    "\n",
    "# optimizer = L_BFGS_B(maxfun=20)\n",
    "\n",
    "ansatz = UCCSD(\n",
    "    problem.num_spatial_orbitals,\n",
    "    problem.num_particles,\n",
    "    mapper,\n",
    "    initial_state=HartreeFock(\n",
    "        problem.num_spatial_orbitals,\n",
    "        problem.num_particles,\n",
    "        mapper,\n",
    "    ),\n",
    ")\n",
    "\n",
    "initial_point = np.zeros(ansatz.num_parameters)\n",
    "results = []"
   ]
  },
  {
   "cell_type": "code",
   "execution_count": 10,
   "metadata": {},
   "outputs": [
    {
     "name": "stdout",
     "output_type": "stream",
     "text": [
      "Done getting backend\n"
     ]
    }
   ],
   "source": [
    "# Prep backend\n",
    "from qiskit_ibm_runtime import QiskitRuntimeService\n",
    "\n",
    "backend_name = \"ibm_brisbane\"\n",
    "service = QiskitRuntimeService()\n",
    "backend = service.backend(backend_name)\n",
    "print(\"Done getting backend\")"
   ]
  },
  {
   "cell_type": "code",
   "execution_count": 11,
   "metadata": {},
   "outputs": [],
   "source": [
    "# Transpile\n",
    "from qiskit import transpile\n",
    "from qiskit_ibm_runtime import EstimatorV2 as Estimator\n",
    "observable = qubit_hamiltonian\n",
    "transpiled_qcs = transpile([ansatz], backend=backend, optimization_level=1)\n",
    "# observable = observable.apply_layout(transpiled_qcs[0].layout)\n",
    "\n",
    "estimator = Estimator(mode=backend)\n",
    "estimator.options.resilience_level = 1\n",
    "estimator.options.dynamical_decoupling.enable = True\n",
    "estimator.options.dynamical_decoupling.sequence_type = \"XY4\""
   ]
  },
  {
   "cell_type": "code",
   "execution_count": 12,
   "metadata": {},
   "outputs": [
    {
     "ename": "ValueError",
     "evalue": "The number of qubits of the circuit (127) does not match the number of qubits of the ()-th observable (4).",
     "output_type": "error",
     "traceback": [
      "\u001b[0;31m---------------------------------------------------------------------------\u001b[0m",
      "\u001b[0;31mValueError\u001b[0m                                Traceback (most recent call last)",
      "Cell \u001b[0;32mIn[12], line 9\u001b[0m\n\u001b[1;32m      6\u001b[0m     results\u001b[38;5;241m.\u001b[39mappend(result)\n\u001b[1;32m      7\u001b[0m     \u001b[38;5;28;01mreturn\u001b[39;00m result\n\u001b[0;32m----> 9\u001b[0m result \u001b[38;5;241m=\u001b[39m \u001b[43mestimate_energy\u001b[49m\u001b[43m(\u001b[49m\u001b[43minitial_point\u001b[49m\u001b[43m)\u001b[49m\n\u001b[1;32m     10\u001b[0m \u001b[38;5;28mprint\u001b[39m(\u001b[38;5;124mf\u001b[39m\u001b[38;5;124m\"\u001b[39m\u001b[38;5;132;01m{\u001b[39;00mdatetime\u001b[38;5;241m.\u001b[39mnow()\u001b[38;5;132;01m}\u001b[39;00m\u001b[38;5;124m Result: \u001b[39m\u001b[38;5;132;01m{\u001b[39;00mresult\u001b[38;5;132;01m}\u001b[39;00m\u001b[38;5;124m\"\u001b[39m)\n",
      "Cell \u001b[0;32mIn[12], line 2\u001b[0m, in \u001b[0;36mestimate_energy\u001b[0;34m(parameters)\u001b[0m\n\u001b[1;32m      1\u001b[0m \u001b[38;5;28;01mdef\u001b[39;00m\u001b[38;5;250m \u001b[39m\u001b[38;5;21mestimate_energy\u001b[39m(parameters):\n\u001b[0;32m----> 2\u001b[0m     job \u001b[38;5;241m=\u001b[39m \u001b[43mestimator\u001b[49m\u001b[38;5;241;43m.\u001b[39;49m\u001b[43mrun\u001b[49m\u001b[43m(\u001b[49m\u001b[43m[\u001b[49m\u001b[43m(\u001b[49m\u001b[43mtranspiled_qcs\u001b[49m\u001b[43m[\u001b[49m\u001b[38;5;241;43m0\u001b[39;49m\u001b[43m]\u001b[49m\u001b[43m,\u001b[49m\u001b[43m \u001b[49m\u001b[43mqubit_hamiltonian\u001b[49m\u001b[43m,\u001b[49m\u001b[43m \u001b[49m\u001b[43mparameters\u001b[49m\u001b[43m)\u001b[49m\u001b[43m]\u001b[49m\u001b[43m)\u001b[49m\n\u001b[1;32m      3\u001b[0m     \u001b[38;5;28mprint\u001b[39m(\u001b[38;5;124mf\u001b[39m\u001b[38;5;124m\"\u001b[39m\u001b[38;5;132;01m{\u001b[39;00mtimestamp()\u001b[38;5;132;01m}\u001b[39;00m\u001b[38;5;124m Job submitted: \u001b[39m\u001b[38;5;132;01m{\u001b[39;00mjob\u001b[38;5;241m.\u001b[39mjob_id()\u001b[38;5;132;01m}\u001b[39;00m\u001b[38;5;124m\"\u001b[39m)\n\u001b[1;32m      5\u001b[0m     result \u001b[38;5;241m=\u001b[39m job\u001b[38;5;241m.\u001b[39mresult()[\u001b[38;5;241m0\u001b[39m]\u001b[38;5;241m.\u001b[39mdata\u001b[38;5;241m.\u001b[39mevs\n",
      "File \u001b[0;32m~/Desktop/PLAYGROUND/qml/myenv/lib/python3.12/site-packages/qiskit_ibm_runtime/estimator.py:147\u001b[0m, in \u001b[0;36mEstimatorV2.run\u001b[0;34m(self, pubs, precision)\u001b[0m\n\u001b[1;32m    145\u001b[0m     \u001b[38;5;28;01mif\u001b[39;00m precision \u001b[38;5;241m<\u001b[39m\u001b[38;5;241m=\u001b[39m \u001b[38;5;241m0\u001b[39m:\n\u001b[1;32m    146\u001b[0m         \u001b[38;5;28;01mraise\u001b[39;00m \u001b[38;5;167;01mValueError\u001b[39;00m(\u001b[38;5;124m\"\u001b[39m\u001b[38;5;124mThe precision value must be strictly greater than 0.\u001b[39m\u001b[38;5;124m\"\u001b[39m)\n\u001b[0;32m--> 147\u001b[0m coerced_pubs \u001b[38;5;241m=\u001b[39m [\u001b[43mEstimatorPub\u001b[49m\u001b[38;5;241;43m.\u001b[39;49m\u001b[43mcoerce\u001b[49m\u001b[43m(\u001b[49m\u001b[43mpub\u001b[49m\u001b[43m,\u001b[49m\u001b[43m \u001b[49m\u001b[43mprecision\u001b[49m\u001b[43m)\u001b[49m \u001b[38;5;28;01mfor\u001b[39;00m pub \u001b[38;5;129;01min\u001b[39;00m pubs]\n\u001b[1;32m    148\u001b[0m validate_estimator_pubs(coerced_pubs)\n\u001b[1;32m    149\u001b[0m \u001b[38;5;28;01mreturn\u001b[39;00m \u001b[38;5;28mself\u001b[39m\u001b[38;5;241m.\u001b[39m_run(coerced_pubs)\n",
      "File \u001b[0;32m~/Desktop/PLAYGROUND/qml/myenv/lib/python3.12/site-packages/qiskit/primitives/containers/estimator_pub.py:162\u001b[0m, in \u001b[0;36mEstimatorPub.coerce\u001b[0;34m(cls, pub, precision)\u001b[0m\n\u001b[1;32m    159\u001b[0m \u001b[38;5;28;01mif\u001b[39;00m \u001b[38;5;28mlen\u001b[39m(pub) \u001b[38;5;241m>\u001b[39m \u001b[38;5;241m3\u001b[39m \u001b[38;5;129;01mand\u001b[39;00m pub[\u001b[38;5;241m3\u001b[39m] \u001b[38;5;129;01mis\u001b[39;00m \u001b[38;5;129;01mnot\u001b[39;00m \u001b[38;5;28;01mNone\u001b[39;00m:\n\u001b[1;32m    160\u001b[0m     precision \u001b[38;5;241m=\u001b[39m pub[\u001b[38;5;241m3\u001b[39m]\n\u001b[0;32m--> 162\u001b[0m \u001b[38;5;28;01mreturn\u001b[39;00m \u001b[38;5;28;43mcls\u001b[39;49m\u001b[43m(\u001b[49m\n\u001b[1;32m    163\u001b[0m \u001b[43m    \u001b[49m\u001b[43mcircuit\u001b[49m\u001b[38;5;241;43m=\u001b[39;49m\u001b[43mcircuit\u001b[49m\u001b[43m,\u001b[49m\n\u001b[1;32m    164\u001b[0m \u001b[43m    \u001b[49m\u001b[43mobservables\u001b[49m\u001b[38;5;241;43m=\u001b[39;49m\u001b[43mobservables\u001b[49m\u001b[43m,\u001b[49m\n\u001b[1;32m    165\u001b[0m \u001b[43m    \u001b[49m\u001b[43mparameter_values\u001b[49m\u001b[38;5;241;43m=\u001b[39;49m\u001b[43mparameter_values\u001b[49m\u001b[43m,\u001b[49m\n\u001b[1;32m    166\u001b[0m \u001b[43m    \u001b[49m\u001b[43mprecision\u001b[49m\u001b[38;5;241;43m=\u001b[39;49m\u001b[43mprecision\u001b[49m\u001b[43m,\u001b[49m\n\u001b[1;32m    167\u001b[0m \u001b[43m    \u001b[49m\u001b[43mvalidate\u001b[49m\u001b[38;5;241;43m=\u001b[39;49m\u001b[38;5;28;43;01mTrue\u001b[39;49;00m\u001b[43m,\u001b[49m\n\u001b[1;32m    168\u001b[0m \u001b[43m\u001b[49m\u001b[43m)\u001b[49m\n",
      "File \u001b[0;32m~/Desktop/PLAYGROUND/qml/myenv/lib/python3.12/site-packages/qiskit/primitives/containers/estimator_pub.py:85\u001b[0m, in \u001b[0;36mEstimatorPub.__init__\u001b[0;34m(self, circuit, observables, parameter_values, precision, validate)\u001b[0m\n\u001b[1;32m     79\u001b[0m     \u001b[38;5;28;01mraise\u001b[39;00m \u001b[38;5;167;01mValueError\u001b[39;00m(\n\u001b[1;32m     80\u001b[0m         \u001b[38;5;124mf\u001b[39m\u001b[38;5;124m\"\u001b[39m\u001b[38;5;124mThe observables shape \u001b[39m\u001b[38;5;132;01m{\u001b[39;00m\u001b[38;5;28mself\u001b[39m\u001b[38;5;241m.\u001b[39mobservables\u001b[38;5;241m.\u001b[39mshape\u001b[38;5;132;01m}\u001b[39;00m\u001b[38;5;124m and the \u001b[39m\u001b[38;5;124m\"\u001b[39m\n\u001b[1;32m     81\u001b[0m         \u001b[38;5;124mf\u001b[39m\u001b[38;5;124m\"\u001b[39m\u001b[38;5;124mparameter values shape \u001b[39m\u001b[38;5;132;01m{\u001b[39;00m\u001b[38;5;28mself\u001b[39m\u001b[38;5;241m.\u001b[39mparameter_values\u001b[38;5;241m.\u001b[39mshape\u001b[38;5;132;01m}\u001b[39;00m\u001b[38;5;124m are not broadcastable.\u001b[39m\u001b[38;5;124m\"\u001b[39m\n\u001b[1;32m     82\u001b[0m     ) \u001b[38;5;28;01mfrom\u001b[39;00m\u001b[38;5;250m \u001b[39m\u001b[38;5;21;01mex\u001b[39;00m\n\u001b[1;32m     84\u001b[0m \u001b[38;5;28;01mif\u001b[39;00m validate:\n\u001b[0;32m---> 85\u001b[0m     \u001b[38;5;28;43mself\u001b[39;49m\u001b[38;5;241;43m.\u001b[39;49m\u001b[43mvalidate\u001b[49m\u001b[43m(\u001b[49m\u001b[43m)\u001b[49m\n",
      "File \u001b[0;32m~/Desktop/PLAYGROUND/qml/myenv/lib/python3.12/site-packages/qiskit/primitives/containers/estimator_pub.py:188\u001b[0m, in \u001b[0;36mEstimatorPub.validate\u001b[0;34m(self)\u001b[0m\n\u001b[1;32m    186\u001b[0m     num_qubits \u001b[38;5;241m=\u001b[39m \u001b[38;5;28mlen\u001b[39m(\u001b[38;5;28mnext\u001b[39m(\u001b[38;5;28miter\u001b[39m(observable)))\n\u001b[1;32m    187\u001b[0m     \u001b[38;5;28;01mif\u001b[39;00m \u001b[38;5;28mself\u001b[39m\u001b[38;5;241m.\u001b[39mcircuit\u001b[38;5;241m.\u001b[39mnum_qubits \u001b[38;5;241m!=\u001b[39m num_qubits:\n\u001b[0;32m--> 188\u001b[0m         \u001b[38;5;28;01mraise\u001b[39;00m \u001b[38;5;167;01mValueError\u001b[39;00m(\n\u001b[1;32m    189\u001b[0m             \u001b[38;5;124mf\u001b[39m\u001b[38;5;124m\"\u001b[39m\u001b[38;5;124mThe number of qubits of the circuit (\u001b[39m\u001b[38;5;132;01m{\u001b[39;00m\u001b[38;5;28mself\u001b[39m\u001b[38;5;241m.\u001b[39mcircuit\u001b[38;5;241m.\u001b[39mnum_qubits\u001b[38;5;132;01m}\u001b[39;00m\u001b[38;5;124m) does \u001b[39m\u001b[38;5;124m\"\u001b[39m\n\u001b[1;32m    190\u001b[0m             \u001b[38;5;124mf\u001b[39m\u001b[38;5;124m\"\u001b[39m\u001b[38;5;124mnot match the number of qubits of the \u001b[39m\u001b[38;5;132;01m{\u001b[39;00mi\u001b[38;5;132;01m}\u001b[39;00m\u001b[38;5;124m-th observable (\u001b[39m\u001b[38;5;132;01m{\u001b[39;00mnum_qubits\u001b[38;5;132;01m}\u001b[39;00m\u001b[38;5;124m).\u001b[39m\u001b[38;5;124m\"\u001b[39m\n\u001b[1;32m    191\u001b[0m         )\n\u001b[1;32m    193\u001b[0m \u001b[38;5;66;03m# Cross validate circuits and parameter_values\u001b[39;00m\n\u001b[1;32m    194\u001b[0m num_parameters \u001b[38;5;241m=\u001b[39m \u001b[38;5;28mself\u001b[39m\u001b[38;5;241m.\u001b[39mparameter_values\u001b[38;5;241m.\u001b[39mnum_parameters\n",
      "\u001b[0;31mValueError\u001b[0m: The number of qubits of the circuit (127) does not match the number of qubits of the ()-th observable (4)."
     ]
    }
   ],
   "source": [
    "def estimate_energy(parameters):\n",
    "    job = estimator.run([(transpiled_qcs[0], qubit_hamiltonian, parameters)])\n",
    "    print(f\"{timestamp()} Job submitted: {job.job_id()}\")\n",
    "\n",
    "    result = job.result()[0].data.evs\n",
    "    results.append(result)\n",
    "    return result\n",
    "\n",
    "result = estimate_energy(initial_point)\n",
    "print(f\"{datetime.now()} Result: {result}\")"
   ]
  },
  {
   "cell_type": "code",
   "execution_count": null,
   "metadata": {},
   "outputs": [
    {
     "name": "stdout",
     "output_type": "stream",
     "text": [
      "[]\n"
     ]
    }
   ],
   "source": [
    "print(results)"
   ]
  }
 ],
 "metadata": {
  "kernelspec": {
   "display_name": "myenv",
   "language": "python",
   "name": "python3"
  },
  "language_info": {
   "codemirror_mode": {
    "name": "ipython",
    "version": 3
   },
   "file_extension": ".py",
   "mimetype": "text/x-python",
   "name": "python",
   "nbconvert_exporter": "python",
   "pygments_lexer": "ipython3",
   "version": "3.12.3"
  }
 },
 "nbformat": 4,
 "nbformat_minor": 2
}
