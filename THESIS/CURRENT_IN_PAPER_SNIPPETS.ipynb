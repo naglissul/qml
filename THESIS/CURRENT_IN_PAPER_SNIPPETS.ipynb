{
 "cells": [
  {
   "cell_type": "markdown",
   "id": "3de754ba",
   "metadata": {},
   "source": [
    "# Snippets in overleaf document or described\n",
    "\n",
    "## Hamiltonian mapping"
   ]
  },
  {
   "cell_type": "code",
   "execution_count": 1,
   "id": "de19289d",
   "metadata": {},
   "outputs": [
    {
     "name": "stdout",
     "output_type": "stream",
     "text": [
      "FERMIONIC HAMILTONIAN: \n",
      "\n",
      "Fermionic Operator\n",
      "number spin orbitals=4, number terms=36\n",
      "  0.33785507740175813 * ( +_0 +_0 -_0 -_0 )\n",
      "+ 0.3322908651276482 * ( +_0 +_1 -_1 -_0 )\n",
      "+ 0.33785507740175813 * ( +_0 +_2 -_2 -_0 )\n",
      "+ 0.3322908651276482 * ( +_0 +_3 -_3 -_0 )\n",
      "+ 0.09046559989211572 * ( +_0 +_0 -_1 -_1 )\n",
      "+ 0.09046559989211572 * ( +_0 +_1 -_0 -_1 )\n",
      "+ 0.09046559989211572 * ( +_0 +_2 -_3 -_1 )\n",
      "+ 0.09046559989211572 * ( +_0 +_3 -_2 -_1 )\n",
      "+ 0.09046559989211572 * ( +_1 +_0 -_1 -_0 )\n",
      "+ 0.09046559989211572 * ( +_1 +_1 -_0 -_0 )\n",
      "+ 0.09046559989211572 * ( +_1 +_2 -_3 -_0 )\n",
      "+ 0.09046559989211572 * ( +_1 +_3 -_2 -_0 )\n",
      "+ 0.3322908651276482 * ( +_1 +_0 -_0 -_1 )\n",
      "+ 0.34928686136600884 * ( +_1 +_1 -_1 -_1 )\n",
      "+ 0.3322908651276482 * ( +_1 +_2 -_2 -_1 )\n",
      "+ 0.34928686136600884 * ( +_1 +_3 -_3 -_1 )\n",
      "+ 0.33785507740175813 * ( +_2 +_0 -_0 -_2 )\n",
      "+ 0.3322908651276482 * ( +_2 +_1 -_1 -_2 )\n",
      "+ 0.33785507740175813 * ( +_2 +_2 -_2 -_2 )\n",
      "+ 0.3322908651276482 * ( +_2 +_3 -_3 -_2 )\n",
      "+ 0.09046559989211572 * ( +_2 +_0 -_1 -_3 )\n",
      "+ 0.09046559989211572 * ( +_2 +_1 -_0 -_3 )\n",
      "+ 0.09046559989211572 * ( +_2 +_2 -_3 -_3 )\n",
      "+ 0.09046559989211572 * ( +_2 +_3 -_2 -_3 )\n",
      "+ 0.09046559989211572 * ( +_3 +_0 -_1 -_2 )\n",
      "+ 0.09046559989211572 * ( +_3 +_1 -_0 -_2 )\n",
      "+ 0.09046559989211572 * ( +_3 +_2 -_3 -_2 )\n",
      "+ 0.09046559989211572 * ( +_3 +_3 -_2 -_2 )\n",
      "+ 0.3322908651276482 * ( +_3 +_0 -_0 -_3 )\n",
      "+ 0.34928686136600884 * ( +_3 +_1 -_1 -_3 )\n",
      "+ 0.3322908651276482 * ( +_3 +_2 -_2 -_3 )\n",
      "+ 0.34928686136600884 * ( +_3 +_3 -_3 -_3 )\n",
      "+ -1.25633907300325 * ( +_0 -_0 )\n",
      "+ -0.47189600728114184 * ( +_1 -_1 )\n",
      "+ -1.25633907300325 * ( +_2 -_2 )\n",
      "+ -0.47189600728114184 * ( +_3 -_3 )\n"
     ]
    }
   ],
   "source": [
    "from qiskit_nature.second_q.drivers import PySCFDriver\n",
    "from qiskit_nature.units import DistanceUnit\n",
    "from qiskit_nature.second_q.mappers import ParityMapper\n",
    "driver = PySCFDriver(\n",
    "atom='H .0 .0 .0; H .0 .0 0.735',\n",
    "unit=DistanceUnit.ANGSTROM,\n",
    "basis='sto3g',\n",
    ")\n",
    "problem = driver.run()\n",
    "fermionic_hamiltonian = problem.hamiltonian.second_q_op()\n",
    "print(\"FERMIONIC HAMILTONIAN: \\n\")\n",
    "print(fermionic_hamiltonian)"
   ]
  }
 ],
 "metadata": {
  "kernelspec": {
   "display_name": "myenv",
   "language": "python",
   "name": "python3"
  },
  "language_info": {
   "codemirror_mode": {
    "name": "ipython",
    "version": 3
   },
   "file_extension": ".py",
   "mimetype": "text/x-python",
   "name": "python",
   "nbconvert_exporter": "python",
   "pygments_lexer": "ipython3",
   "version": "3.12.3"
  }
 },
 "nbformat": 4,
 "nbformat_minor": 5
}
